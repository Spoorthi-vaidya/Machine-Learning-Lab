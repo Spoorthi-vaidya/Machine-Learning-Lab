{
 "cells": [
  {
   "cell_type": "code",
   "execution_count": null,
   "metadata": {
    "collapsed": true
   },
   "outputs": [],
   "source": [
    "import numpy\n",
    "import matplotlib.pyplot as plt\n",
    "import tensorflow as tf\n",
    "\n",
    "rng = numpy.random\n",
    "\n",
    "rate_list = [0.05, 0.005]\n",
    "epoch_list = [100, 200, 500]\n",
    "display_step = 50\n",
    "\n",
    "train_X = numpy.asarray([1.,2.,3.,4.])\n",
    "train_Y = numpy.asarray([5.,6.,7.,8.])\n",
    "n_samples = train_X.shape[0]\n",
    "\n",
    "X = tf.placeholder(\"float\")\n",
    "Y = tf.placeholder(\"float\")\n",
    "\n",
    "W = tf.Variable(rng.randn(), name=\"weight\")\n",
    "b = tf.Variable(rng.randn(), name=\"bias\")\n",
    "\n",
    "theta = numpy.array([W, b])\n",
    "theta_transpose = numpy.transpose(theta)\n",
    "c = tf.matmul(-theta_transpose, train_X)\n",
    "pred = tf.divide(1, tf.add(1, tf.exp(c)))\n",
    "\n",
    "cost = tf.subtract(tf.multiply(-train_Y, tf.log(pred)), tf.multiply(tf.subtract(1, train_Y), tf.log(tf.subtract(1, pred))))\n",
    "\n",
    "train_cost = []\n",
    "\n",
    "init = tf.global_variables_initializer()\n",
    "\n",
    "with tf.Session() as sess:\n",
    "    sess.run(init)\n",
    "    for rate in rate_list:\n",
    "        optimizer = tf.train.GradientDescentOptimizer(rate).minimize(cost)\n",
    "        for training_epochs in epoch_list:\n",
    "            for epoch in range(training_epochs):    \n",
    "                for (x, y) in zip(train_X, train_Y):\n",
    "                    sess.run(optimizer, feed_dict={X: x, Y: y})\n",
    "                if (epoch+1) % display_step == 0:\n",
    "                    c = sess.run(cost, feed_dict={X: train_X, Y:train_Y})\n",
    "                    print(\"Epoch:\", '%04d' % (epoch+1), \"cost=\", \"{:.9f}\".format(c), \"W=\", sess.run(W), \"b=\", sess.run(b))\n",
    "            print(\"Optimization Finished!\")\n",
    "            training_cost = sess.run(cost, feed_dict={X: train_X, Y: train_Y})\n",
    "            #train_cost.append(training_cost)\n",
    "            print(\"Training cost=\", training_cost, \"W=\", sess.run(W), \"b=\", sess.run(b), '\\n')\n",
    "\n",
    "        train_cost.append(training_cost)    \n",
    "        plt.plot(train_X, train_Y, 'ro', label='Original data')\n",
    "        plt.plot(train_X, sess.run(W) * train_X + sess.run(b), label='Fitted line')\n",
    "        plt.legend()\n",
    "        plt.show()\n"
   ]
  }
 ],
 "metadata": {
  "kernelspec": {
   "display_name": "Python 3",
   "language": "python",
   "name": "python3"
  },
  "language_info": {
   "codemirror_mode": {
    "name": "ipython",
    "version": 3
   },
   "file_extension": ".py",
   "mimetype": "text/x-python",
   "name": "python",
   "nbconvert_exporter": "python",
   "pygments_lexer": "ipython3",
   "version": "3.6.1"
  }
 },
 "nbformat": 4,
 "nbformat_minor": 2
}
